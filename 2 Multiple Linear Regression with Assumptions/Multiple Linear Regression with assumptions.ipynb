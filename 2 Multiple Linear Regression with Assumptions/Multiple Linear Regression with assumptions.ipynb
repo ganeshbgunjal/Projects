{
 "cells": [
  {
   "cell_type": "code",
   "execution_count": 1,
   "id": "21203038-a0c6-490a-9cae-d366a117f376",
   "metadata": {},
   "outputs": [],
   "source": [
    "from sklearn.datasets import fetch_california_housing"
   ]
  },
  {
   "cell_type": "code",
   "execution_count": null,
   "id": "e6cf6bf7-3b7f-4259-adc1-4770875b9a00",
   "metadata": {},
   "outputs": [],
   "source": []
  }
 ],
 "metadata": {
  "kernelspec": {
   "display_name": "Python 3 (ipykernel)",
   "language": "python",
   "name": "python3"
  },
  "language_info": {
   "codemirror_mode": {
    "name": "ipython",
    "version": 3
   },
   "file_extension": ".py",
   "mimetype": "text/x-python",
   "name": "python",
   "nbconvert_exporter": "python",
   "pygments_lexer": "ipython3",
   "version": "3.13.5"
  }
 },
 "nbformat": 4,
 "nbformat_minor": 5
}
